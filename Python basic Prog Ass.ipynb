{
 "cells": [
  {
   "cell_type": "markdown",
   "id": "f5fe1e55",
   "metadata": {},
   "source": [
    "# Python Basic Programming Assignment 1"
   ]
  },
  {
   "cell_type": "markdown",
   "id": "0040e861",
   "metadata": {},
   "source": [
    "###### 1. Write a Python program to print \"Hello Python\"?"
   ]
  },
  {
   "cell_type": "code",
   "execution_count": 2,
   "id": "997b8bbb",
   "metadata": {},
   "outputs": [
    {
     "name": "stdout",
     "output_type": "stream",
     "text": [
      "\"Hello Python\"\n"
     ]
    }
   ],
   "source": [
    "print('\"Hello Python\"')"
   ]
  },
  {
   "cell_type": "markdown",
   "id": "685f0349",
   "metadata": {},
   "source": [
    "###### 2. Write a Python program to do arithmetical operations addition and division.?"
   ]
  },
  {
   "cell_type": "code",
   "execution_count": 7,
   "id": "ba719a95",
   "metadata": {},
   "outputs": [
    {
     "name": "stdout",
     "output_type": "stream",
     "text": [
      "enter first number : 9\n",
      "enter second number : 3\n",
      "addition of two numbers is  12 \n",
      " division of two numbers is  3.0\n"
     ]
    }
   ],
   "source": [
    "a = int(input(\"enter first number : \"))\n",
    "b = int(input(\"enter second number : \"))\n",
    "c = a+b\n",
    "d = a/b\n",
    "print(\"addition of two numbers is \" ,c,\"\\n\",\"division of two numbers is \" , d)"
   ]
  },
  {
   "cell_type": "markdown",
   "id": "1800ee0b",
   "metadata": {},
   "source": [
    "###### 3. Write a Python program to find the area of a triangle?"
   ]
  },
  {
   "cell_type": "code",
   "execution_count": 10,
   "id": "a2b45583",
   "metadata": {},
   "outputs": [
    {
     "name": "stdout",
     "output_type": "stream",
     "text": [
      "enter base of a triangle : 3.5\n",
      "enter height of a triangle : 9\n",
      "area of triangle is :  15.75\n"
     ]
    }
   ],
   "source": [
    "b = float(input(\"enter base of a triangle : \"))\n",
    "h = float(input(\"enter height of a triangle : \"))\n",
    "area = 0.5 * b * h      #area of triangle = 1/2 * base * height\n",
    "print(\"area of triangle is : \" , area)"
   ]
  },
  {
   "cell_type": "markdown",
   "id": "015e1a8b",
   "metadata": {},
   "source": [
    "###### 4. Write a Python program to swap two variables?"
   ]
  },
  {
   "cell_type": "code",
   "execution_count": 18,
   "id": "224da7e9",
   "metadata": {},
   "outputs": [
    {
     "name": "stdout",
     "output_type": "stream",
     "text": [
      "enter x variable 5\n",
      "enter y variable 10\n",
      "Swapping of x variable is : 10 and swapping of y variable is : 5\n"
     ]
    }
   ],
   "source": [
    "x = int(input(\"enter x variable \"))\n",
    "y = int(input(\"enter y variable \"))\n",
    "x,y = y,x    #swapping two variables\n",
    "print(\"Swapping of x variable is :\",x ,\"and\",\"swapping of y variable is :\",y)"
   ]
  },
  {
   "cell_type": "markdown",
   "id": "c8ffa829",
   "metadata": {},
   "source": [
    "###### 5. Write a Python program to generate a random number?"
   ]
  },
  {
   "cell_type": "code",
   "execution_count": 43,
   "id": "c46a30d5",
   "metadata": {},
   "outputs": [
    {
     "name": "stdout",
     "output_type": "stream",
     "text": [
      "0.20718506827099425\n"
     ]
    }
   ],
   "source": [
    "import random\n",
    "random_number = random.random()\n",
    "print(random_number)"
   ]
  }
 ],
 "metadata": {
  "kernelspec": {
   "display_name": "Python 3 (ipykernel)",
   "language": "python",
   "name": "python3"
  },
  "language_info": {
   "codemirror_mode": {
    "name": "ipython",
    "version": 3
   },
   "file_extension": ".py",
   "mimetype": "text/x-python",
   "name": "python",
   "nbconvert_exporter": "python",
   "pygments_lexer": "ipython3",
   "version": "3.9.7"
  }
 },
 "nbformat": 4,
 "nbformat_minor": 5
}
