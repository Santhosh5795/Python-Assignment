{
 "cells": [
  {
   "cell_type": "markdown",
   "id": "f5fe1e55",
   "metadata": {},
   "source": [
    "# Python Basic Programming Assignment 2"
   ]
  },
  {
   "cell_type": "markdown",
   "id": "0040e861",
   "metadata": {},
   "source": [
    "###### 1. Write a Python program to convert kilometers to miles?"
   ]
  },
  {
   "cell_type": "code",
   "execution_count": 46,
   "id": "997b8bbb",
   "metadata": {},
   "outputs": [
    {
     "name": "stdout",
     "output_type": "stream",
     "text": [
      "enter a kilometer value : 6.66\n",
      "Conversion of '6.66' kilometer to Miles is --> 4.13833086 miles\n"
     ]
    }
   ],
   "source": [
    "# we know that ---> 1 kilometer = 0.621371 miles\n",
    "kilometer = float(input(\"enter a kilometer value : \"))\n",
    "conv_ratio = 0.621371\n",
    "# converting kilometers to miles\n",
    "miles = kilometer * conv_ratio\n",
    "print(\"Conversion of '{}' kilometer to Miles is --> {} miles\".format(kilometer,miles))"
   ]
  },
  {
   "cell_type": "markdown",
   "id": "685f0349",
   "metadata": {},
   "source": [
    "###### 2. Write a Python program to convert Celsius to Fahrenheit?"
   ]
  },
  {
   "cell_type": "code",
   "execution_count": 92,
   "id": "ba719a95",
   "metadata": {},
   "outputs": [
    {
     "name": "stdout",
     "output_type": "stream",
     "text": [
      "enter celsius : 23.6\n"
     ]
    },
    {
     "data": {
      "text/plain": [
       "'Conversion of 23.6 Celsius to Farenheit is --> 53.6F'"
      ]
     },
     "execution_count": 92,
     "metadata": {},
     "output_type": "execute_result"
    }
   ],
   "source": [
    "#  we know that: converting celsius to farenheit = celsius * (9/5) + 32  ; where 9/5 = 1.8 ; also (celsius * 1.8)+32\n",
    "def conversion():\n",
    "    celsius = float(input(\"enter celsius : \"))\n",
    "    conv_exp = (c * 1.8) + 32\n",
    "    return \"Conversion of {} Celsius to Farenheit is --> {}F\".format(celsius , round(conv_exp,2))\n",
    "# converting celsius to Farenheit\n",
    "conversion()"
   ]
  },
  {
   "cell_type": "markdown",
   "id": "1800ee0b",
   "metadata": {},
   "source": [
    "###### 3. Write a Python program to display calendar?"
   ]
  },
  {
   "cell_type": "code",
   "execution_count": 67,
   "id": "a2b45583",
   "metadata": {
    "scrolled": true
   },
   "outputs": [
    {
     "name": "stdout",
     "output_type": "stream",
     "text": [
      "enter a year : 2022\n",
      "                                  2022\n",
      "\n",
      "      January                   February                   March\n",
      "Mo Tu We Th Fr Sa Su      Mo Tu We Th Fr Sa Su      Mo Tu We Th Fr Sa Su\n",
      "                1  2          1  2  3  4  5  6          1  2  3  4  5  6\n",
      " 3  4  5  6  7  8  9       7  8  9 10 11 12 13       7  8  9 10 11 12 13\n",
      "10 11 12 13 14 15 16      14 15 16 17 18 19 20      14 15 16 17 18 19 20\n",
      "17 18 19 20 21 22 23      21 22 23 24 25 26 27      21 22 23 24 25 26 27\n",
      "24 25 26 27 28 29 30      28                        28 29 30 31\n",
      "31\n",
      "\n",
      "       April                      May                       June\n",
      "Mo Tu We Th Fr Sa Su      Mo Tu We Th Fr Sa Su      Mo Tu We Th Fr Sa Su\n",
      "             1  2  3                         1             1  2  3  4  5\n",
      " 4  5  6  7  8  9 10       2  3  4  5  6  7  8       6  7  8  9 10 11 12\n",
      "11 12 13 14 15 16 17       9 10 11 12 13 14 15      13 14 15 16 17 18 19\n",
      "18 19 20 21 22 23 24      16 17 18 19 20 21 22      20 21 22 23 24 25 26\n",
      "25 26 27 28 29 30         23 24 25 26 27 28 29      27 28 29 30\n",
      "                          30 31\n",
      "\n",
      "        July                     August                  September\n",
      "Mo Tu We Th Fr Sa Su      Mo Tu We Th Fr Sa Su      Mo Tu We Th Fr Sa Su\n",
      "             1  2  3       1  2  3  4  5  6  7                1  2  3  4\n",
      " 4  5  6  7  8  9 10       8  9 10 11 12 13 14       5  6  7  8  9 10 11\n",
      "11 12 13 14 15 16 17      15 16 17 18 19 20 21      12 13 14 15 16 17 18\n",
      "18 19 20 21 22 23 24      22 23 24 25 26 27 28      19 20 21 22 23 24 25\n",
      "25 26 27 28 29 30 31      29 30 31                  26 27 28 29 30\n",
      "\n",
      "      October                   November                  December\n",
      "Mo Tu We Th Fr Sa Su      Mo Tu We Th Fr Sa Su      Mo Tu We Th Fr Sa Su\n",
      "                1  2          1  2  3  4  5  6                1  2  3  4\n",
      " 3  4  5  6  7  8  9       7  8  9 10 11 12 13       5  6  7  8  9 10 11\n",
      "10 11 12 13 14 15 16      14 15 16 17 18 19 20      12 13 14 15 16 17 18\n",
      "17 18 19 20 21 22 23      21 22 23 24 25 26 27      19 20 21 22 23 24 25\n",
      "24 25 26 27 28 29 30      28 29 30                  26 27 28 29 30 31\n",
      "31\n",
      "\n"
     ]
    }
   ],
   "source": [
    "import calendar as cal\n",
    "year = int(input(\"enter a year : \"))    # enter in this year format = yyyy\n",
    "print(cal.calendar(year))"
   ]
  },
  {
   "cell_type": "markdown",
   "id": "6a290ee7",
   "metadata": {},
   "source": [
    "###### 4. Write a Python program to solve quadratic equation?"
   ]
  },
  {
   "cell_type": "code",
   "execution_count": 101,
   "id": "17a4eff0",
   "metadata": {},
   "outputs": [
    {
     "name": "stdout",
     "output_type": "stream",
     "text": [
      "value a : 1\n",
      "value b : 10\n",
      "value c : -24\n",
      "the roots of 1x**2 + 10x + (-24) is :\n",
      "(-12+0j) \n",
      " (2+0j)\n"
     ]
    }
   ],
   "source": [
    "#  we know that: quadratic equation = ax**2 + bx + c = 0 ; where: a,b,c are real numbers & a!=0\n",
    "# formula to find root of quadratic equation is x = (-b +- sqrt(b**2 - 4*a*c))/2*a\n",
    "import cmath\n",
    "a = int(input(\"value a : \"))\n",
    "b = int(input(\"value b : \"))\n",
    "c = int(input(\"value c : \"))\n",
    "dis = ((b**2)-(4*a*c))\n",
    "sqrt_dis = cmath.sqrt(dis)\n",
    "\n",
    "ans1 = (-b - sqrt_dis)/ (2*a)\n",
    "ans2 = (-b + sqrt_dis)/ (2*a)\n",
    "\n",
    "print(\"the roots of {}x**2 + {}x + ({}) is :\".format(a,b,c))\n",
    "print(ans1,\"\\n\",ans2 )\n"
   ]
  },
  {
   "cell_type": "markdown",
   "id": "015e1a8b",
   "metadata": {},
   "source": [
    "###### 5. Write a Python program to swap two variables without temp variable?"
   ]
  },
  {
   "cell_type": "code",
   "execution_count": 70,
   "id": "224da7e9",
   "metadata": {},
   "outputs": [
    {
     "name": "stdout",
     "output_type": "stream",
     "text": [
      "enter x variable 6\n",
      "enter y variable 9\n",
      "Swapping of x variable is : 9 and swapping of y variable is : 6\n"
     ]
    }
   ],
   "source": [
    "x = int(input(\"enter x variable \"))\n",
    "y = int(input(\"enter y variable \"))\n",
    "x,y = y,x    #swapping two variables\n",
    "print(\"Swapping of x variable is :\",x ,\"and\",\"swapping of y variable is :\",y)"
   ]
  }
 ],
 "metadata": {
  "kernelspec": {
   "display_name": "Python 3 (ipykernel)",
   "language": "python",
   "name": "python3"
  },
  "language_info": {
   "codemirror_mode": {
    "name": "ipython",
    "version": 3
   },
   "file_extension": ".py",
   "mimetype": "text/x-python",
   "name": "python",
   "nbconvert_exporter": "python",
   "pygments_lexer": "ipython3",
   "version": "3.9.7"
  }
 },
 "nbformat": 4,
 "nbformat_minor": 5
}
