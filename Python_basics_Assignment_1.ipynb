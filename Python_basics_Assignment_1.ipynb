{
  "nbformat": 4,
  "nbformat_minor": 0,
  "metadata": {
    "colab": {
      "name": "Python basics Assignment 1.ipynb",
      "provenance": []
    },
    "kernelspec": {
      "name": "python3",
      "display_name": "Python 3"
    },
    "language_info": {
      "name": "python"
    }
  },
  "cells": [
    {
      "cell_type": "code",
      "execution_count": null,
      "metadata": {
        "colab": {
          "base_uri": "https://localhost:8080/",
          "height": 53
        },
        "id": "n6vjVZs22mn_",
        "outputId": "65250a98-f3e3-444b-ca3a-dc755f2b359d"
      },
      "outputs": [
        {
          "output_type": "execute_result",
          "data": {
            "application/vnd.google.colaboratory.intrinsic+json": {
              "type": "string"
            },
            "text/plain": [
              "\"\\n*          Expressions  ;    \\n'hello'    Values  ;\\n-87.8      Values  ;\\n-          Expressions  ;\\n/          Expressions  ;\\n+\\t         Expressions  ;\\n6          Values \\n\""
            ]
          },
          "metadata": {},
          "execution_count": 4
        }
      ],
      "source": [
        "\n",
        "#1. In the below elements which of them are values or an expression? eg:- values can be integer or string and expressions will be mathematical operators.\n",
        "\"\"\"\n",
        "*          Expressions  ;    \n",
        "'hello'    Values  ;\n",
        "-87.8      Values  ;\n",
        "-          Expressions  ;\n",
        "/          Expressions  ;\n",
        "+\t         Expressions  ;\n",
        "6          Values \n",
        "\"\"\""
      ]
    },
    {
      "cell_type": "code",
      "source": [
        "#2. What is the difference between string and variable?\n",
        "\n",
        "#String - it can be entered into quotes. example: \"sandy\" or 'sandy'\n",
        "#Variable - it can be used as a place/container to store data values. example: a = 10 ; where a is variable & 10 is data value.\n"
      ],
      "metadata": {
        "id": "_iWniyE57im0"
      },
      "execution_count": null,
      "outputs": []
    },
    {
      "cell_type": "code",
      "source": [
        "#3. Describe three different data types.\n",
        "#integer - it can store only numerical values i.e,. numbers\n",
        "#Float - it can store floating values like decimal points, example - 22.32 , 445.025\n",
        "#Boolean - it results with only two possible solutions of /statement with problemeither True or False"
      ],
      "metadata": {
        "id": "QT21r-7s9GWS"
      },
      "execution_count": null,
      "outputs": []
    },
    {
      "cell_type": "code",
      "source": [
        "#4. What is an expression made up of? What do all expressions do?\n",
        "\"\"\"An Expression is made up of Mathematical operators (like + - * /) and operands. \n",
        "It is used to perform operations with operands to obtain results or evaluate the values and gives an output.\n",
        "Example: 7 + 3 = 10\n",
        "where: 7 and 3 is operand , + operator and 10 is result. \"\"\"  "
      ],
      "metadata": {
        "colab": {
          "base_uri": "https://localhost:8080/",
          "height": 53
        },
        "id": "HN5MjRDx9kQK",
        "outputId": "cc906ff2-3505-415f-c001-b515c2968cc9"
      },
      "execution_count": 2,
      "outputs": [
        {
          "output_type": "execute_result",
          "data": {
            "application/vnd.google.colaboratory.intrinsic+json": {
              "type": "string"
            },
            "text/plain": [
              "'An Expression is made up of Mathematical operators (like + - * /). \\nIt is used to perform operations with operands to obtain results or evaluate the values and gives an output.\\nExample: 7 + 3 = 10\\nwhere: 7 and 3 is operand , + operator and 10 is result. '"
            ]
          },
          "metadata": {},
          "execution_count": 2
        }
      ]
    },
    {
      "cell_type": "code",
      "source": [
        "#5. This assignment statements, like spam = 10. What is the difference between an expression and a statement?\n",
        "\"\"\"Expressions is made up of Mathematical operators, operands or values. \n",
        "Statement is a simple command that executes like a print command in Python.\"\"\" "
      ],
      "metadata": {
        "colab": {
          "base_uri": "https://localhost:8080/",
          "height": 35
        },
        "id": "HUVF7l9x9o9M",
        "outputId": "c76dccd2-cff8-46fd-b76a-b46e87f7d1fb"
      },
      "execution_count": 3,
      "outputs": [
        {
          "output_type": "execute_result",
          "data": {
            "application/vnd.google.colaboratory.intrinsic+json": {
              "type": "string"
            },
            "text/plain": [
              "'Expressions is made up of Mathematical operators, operands or values. \\nStatement is a simple command that executes like a print command in Python.'"
            ]
          },
          "metadata": {},
          "execution_count": 3
        }
      ]
    },
    {
      "cell_type": "code",
      "source": [
        "#6. After running the following code, what does the variable bacon contain?\n",
        "bacon = 22\n",
        "bacon + 1\n",
        "#answer is 23"
      ],
      "metadata": {
        "colab": {
          "base_uri": "https://localhost:8080/"
        },
        "id": "kpDnxwAH-u9x",
        "outputId": "545cce25-8c61-4fb8-fbb0-850323dc62ba"
      },
      "execution_count": 4,
      "outputs": [
        {
          "output_type": "execute_result",
          "data": {
            "text/plain": [
              "23"
            ]
          },
          "metadata": {},
          "execution_count": 4
        }
      ]
    },
    {
      "cell_type": "code",
      "source": [
        "#7. What should the values of the following two terms be?\n",
        "\n",
        "'spam' + 'spamspam'\n",
        "'spam' * 3\n",
        "# the output of 2 terms will be same"
      ],
      "metadata": {
        "colab": {
          "base_uri": "https://localhost:8080/",
          "height": 35
        },
        "id": "EZw8Og4f-6oG",
        "outputId": "3fd40c2f-8ce7-4175-801a-2ca90e4f129e"
      },
      "execution_count": 5,
      "outputs": [
        {
          "output_type": "execute_result",
          "data": {
            "application/vnd.google.colaboratory.intrinsic+json": {
              "type": "string"
            },
            "text/plain": [
              "'spamspamspam'"
            ]
          },
          "metadata": {},
          "execution_count": 5
        }
      ]
    },
    {
      "cell_type": "code",
      "source": [
        "#8. Why is eggs a valid variable name while 100 is invalid?\n",
        "\"\"\" A Variable name should always starts with alphabets and not with numerical values.\n",
        "For example: Name , eggs, eggs100 , ab10cd are valid variable name. Since its starting with alphabets and not with numbers.\n",
        "That is why Eggs is a Valid Variable name and 100 is invalid\"\"\"\n"
      ],
      "metadata": {
        "colab": {
          "base_uri": "https://localhost:8080/",
          "height": 53
        },
        "id": "fzJ5Mju8_JN6",
        "outputId": "a259426f-0660-43ec-af5c-b86f467df8dc"
      },
      "execution_count": 6,
      "outputs": [
        {
          "output_type": "execute_result",
          "data": {
            "application/vnd.google.colaboratory.intrinsic+json": {
              "type": "string"
            },
            "text/plain": [
              "' A Variable name should always starts with alphabets and not with numerical values.\\nFor example: Name , eggs, eggs100 , ab10cd are valid variable name. Since its starting with alphabets and not with numbers.\\nThat is why Eggs is a Valid Variable name and 100 is invalid'"
            ]
          },
          "metadata": {},
          "execution_count": 6
        }
      ]
    },
    {
      "cell_type": "code",
      "source": [
        "#9. What three functions can be used to get the integer, floating-point number, or string version of a value?\n",
        "\"\"\" str() ; int() ; float() \"\"\""
      ],
      "metadata": {
        "colab": {
          "base_uri": "https://localhost:8080/",
          "height": 35
        },
        "id": "ZJfX9G1mAOoo",
        "outputId": "65667ff5-8dc8-4e3f-ff4d-cd559ca920d5"
      },
      "execution_count": 8,
      "outputs": [
        {
          "output_type": "execute_result",
          "data": {
            "application/vnd.google.colaboratory.intrinsic+json": {
              "type": "string"
            },
            "text/plain": [
              "' str() ; int() ; float() '"
            ]
          },
          "metadata": {},
          "execution_count": 8
        }
      ]
    },
    {
      "cell_type": "code",
      "source": [
        "#10. Why does this expression cause an error? How can you fix it?\n",
        "'I have eaten ' + 99 + ' burritos.'\n",
        "\n",
        "#Answer: because 99 is an integer and it cannot concatenate with a string.To concatenate we can do typecasting to get an output.\n",
        "#For example: 'I have eaten' + '99' + 'burritos' here all of them are in string, hence it will Concatenate.\n"
      ],
      "metadata": {
        "colab": {
          "base_uri": "https://localhost:8080/",
          "height": 217
        },
        "id": "BXfHsOjOAv4a",
        "outputId": "c80384d4-af16-486c-ff4f-58cd22bd5adb"
      },
      "execution_count": 14,
      "outputs": [
        {
          "output_type": "error",
          "ename": "TypeError",
          "evalue": "ignored",
          "traceback": [
            "\u001b[0;31m---------------------------------------------------------------------------\u001b[0m",
            "\u001b[0;31mTypeError\u001b[0m                                 Traceback (most recent call last)",
            "\u001b[0;32m<ipython-input-14-c5b79f9974ad>\u001b[0m in \u001b[0;36m<module>\u001b[0;34m()\u001b[0m\n\u001b[1;32m      1\u001b[0m \u001b[0;31m#10. Why does this expression cause an error? How can you fix it?\u001b[0m\u001b[0;34m\u001b[0m\u001b[0;34m\u001b[0m\u001b[0;34m\u001b[0m\u001b[0m\n\u001b[0;32m----> 2\u001b[0;31m \u001b[0;34m'I have eaten '\u001b[0m \u001b[0;34m+\u001b[0m \u001b[0;36m99\u001b[0m \u001b[0;34m+\u001b[0m \u001b[0;34m' burritos.'\u001b[0m\u001b[0;34m\u001b[0m\u001b[0;34m\u001b[0m\u001b[0m\n\u001b[0m\u001b[1;32m      3\u001b[0m \u001b[0;31m#Answer: because 99 is an integer and it cannot concatenate with a string.To concatenate we can do typecasting to get an output.\u001b[0m\u001b[0;34m\u001b[0m\u001b[0;34m\u001b[0m\u001b[0;34m\u001b[0m\u001b[0m\n\u001b[1;32m      4\u001b[0m \u001b[0;31m#For example: 'I have eaten' + '99' + 'burritos' here all of them are in string, hence it will Concatenate.\u001b[0m\u001b[0;34m\u001b[0m\u001b[0;34m\u001b[0m\u001b[0;34m\u001b[0m\u001b[0m\n",
            "\u001b[0;31mTypeError\u001b[0m: can only concatenate str (not \"int\") to str"
          ]
        }
      ]
    },
    {
      "cell_type": "code",
      "source": [
        ""
      ],
      "metadata": {
        "id": "eeVHVXSjBBKy"
      },
      "execution_count": null,
      "outputs": []
    }
  ]
}